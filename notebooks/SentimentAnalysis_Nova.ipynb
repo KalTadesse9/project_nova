{
 "cells": [
  {
   "cell_type": "code",
   "execution_count": 1,
   "id": "333e3da6-ddf0-4a15-bd81-80caaecb7f24",
   "metadata": {},
   "outputs": [
    {
     "name": "stderr",
     "output_type": "stream",
     "text": [
      "[nltk_data] Downloading package vader_lexicon to\n",
      "[nltk_data]     C:\\Users\\MIT\\AppData\\Roaming\\nltk_data...\n",
      "[nltk_data]   Package vader_lexicon is already up-to-date!\n"
     ]
    },
    {
     "data": {
      "text/plain": [
       "True"
      ]
     },
     "execution_count": 1,
     "metadata": {},
     "output_type": "execute_result"
    }
   ],
   "source": [
    "import pandas as pd\n",
    "import nltk\n",
    "nltk.download(\"vader_lexicon\")"
   ]
  },
  {
   "cell_type": "code",
   "execution_count": 2,
   "id": "168fb8b9-6e98-45a7-a256-243d1d022cb5",
   "metadata": {},
   "outputs": [
    {
     "data": {
      "text/plain": [
       "Unnamed: 0     int64\n",
       "headline      object\n",
       "url           object\n",
       "publisher     object\n",
       "date          object\n",
       "stock         object\n",
       "dtype: object"
      ]
     },
     "execution_count": 2,
     "metadata": {},
     "output_type": "execute_result"
    }
   ],
   "source": [
    "df = pd.read_csv(\"../../raw_analyst_ratings.csv\")\n",
    "df.dtypes"
   ]
  },
  {
   "cell_type": "code",
   "execution_count": 3,
   "id": "5d6fcbf3-5a56-4545-ad2b-1191bf212655",
   "metadata": {},
   "outputs": [
    {
     "data": {
      "text/html": [
       "<div>\n",
       "<style scoped>\n",
       "    .dataframe tbody tr th:only-of-type {\n",
       "        vertical-align: middle;\n",
       "    }\n",
       "\n",
       "    .dataframe tbody tr th {\n",
       "        vertical-align: top;\n",
       "    }\n",
       "\n",
       "    .dataframe thead th {\n",
       "        text-align: right;\n",
       "    }\n",
       "</style>\n",
       "<table border=\"1\" class=\"dataframe\">\n",
       "  <thead>\n",
       "    <tr style=\"text-align: right;\">\n",
       "      <th></th>\n",
       "      <th>Unnamed: 0</th>\n",
       "      <th>headline</th>\n",
       "      <th>url</th>\n",
       "      <th>publisher</th>\n",
       "      <th>date</th>\n",
       "      <th>stock</th>\n",
       "    </tr>\n",
       "  </thead>\n",
       "  <tbody>\n",
       "    <tr>\n",
       "      <th>1050356</th>\n",
       "      <td>1055560</td>\n",
       "      <td>Marijuana Arrests Declining, But Still High: W...</td>\n",
       "      <td>https://www.benzinga.com/news/16/09/8512190/ma...</td>\n",
       "      <td>Javier Hasse</td>\n",
       "      <td>2016-09-30 00:00:00</td>\n",
       "      <td>QQQ</td>\n",
       "    </tr>\n",
       "  </tbody>\n",
       "</table>\n",
       "</div>"
      ],
      "text/plain": [
       "         Unnamed: 0                                           headline  \\\n",
       "1050356     1055560  Marijuana Arrests Declining, But Still High: W...   \n",
       "\n",
       "                                                       url     publisher  \\\n",
       "1050356  https://www.benzinga.com/news/16/09/8512190/ma...  Javier Hasse   \n",
       "\n",
       "                        date stock  \n",
       "1050356  2016-09-30 00:00:00   QQQ  "
      ]
     },
     "execution_count": 3,
     "metadata": {},
     "output_type": "execute_result"
    }
   ],
   "source": [
    "df.sample()"
   ]
  },
  {
   "cell_type": "code",
   "execution_count": 4,
   "id": "493d5efd-4e28-4fa6-84a9-a580ed0cf8ac",
   "metadata": {},
   "outputs": [
    {
     "data": {
      "text/plain": [
       "Unnamed: 0    0\n",
       "headline      0\n",
       "url           0\n",
       "publisher     0\n",
       "date          0\n",
       "stock         0\n",
       "dtype: int64"
      ]
     },
     "execution_count": 4,
     "metadata": {},
     "output_type": "execute_result"
    }
   ],
   "source": [
    "df.isnull().sum()"
   ]
  },
  {
   "cell_type": "markdown",
   "id": "0ca81dd3-b22a-410a-88b1-895fb7c2b1e6",
   "metadata": {},
   "source": [
    "**Descriptive Statistics**"
   ]
  },
  {
   "cell_type": "code",
   "execution_count": 5,
   "id": "8eec7762-853e-42c0-ba36-09b625073d94",
   "metadata": {},
   "outputs": [],
   "source": [
    "def count_words(column):\n",
    "    return len(column.split())\n",
    "\n",
    "df['word_count'] = df['headline'].apply(count_words)"
   ]
  },
  {
   "cell_type": "code",
   "execution_count": 6,
   "id": "8601f9f9-8159-41fc-8162-806cdc21837e",
   "metadata": {},
   "outputs": [
    {
     "data": {
      "text/plain": [
       "count    1407328.00\n",
       "mean          11.42\n",
       "std            6.35\n",
       "min            1.00\n",
       "25%            7.00\n",
       "50%           10.00\n",
       "75%           13.00\n",
       "max           77.00\n",
       "Name: word_count, dtype: float64"
      ]
     },
     "execution_count": 6,
     "metadata": {},
     "output_type": "execute_result"
    }
   ],
   "source": [
    "df['word_count'].describe().round(2)"
   ]
  },
  {
   "cell_type": "markdown",
   "id": "3a3be3b8-c771-49f0-8513-3a1be962e7ce",
   "metadata": {},
   "source": [
    "The average number of words in the headlines for the given dataset is around 11 words. From the summary above, it is also noticeable that there is a headline consisting of a single word to the minimum and there is a headline containing up to 77 words to the maximum."
   ]
  },
  {
   "cell_type": "code",
   "execution_count": 7,
   "id": "2fd25b7a-468a-4f5f-8bd3-d775ce908a31",
   "metadata": {},
   "outputs": [],
   "source": [
    "articles_per_pub = df.groupby('publisher')['headline'].count().reset_index()"
   ]
  },
  {
   "cell_type": "code",
   "execution_count": 10,
   "id": "b981597e-4fa9-4229-8f1c-40684fa32d5d",
   "metadata": {},
   "outputs": [
    {
     "data": {
      "text/html": [
       "<div>\n",
       "<style scoped>\n",
       "    .dataframe tbody tr th:only-of-type {\n",
       "        vertical-align: middle;\n",
       "    }\n",
       "\n",
       "    .dataframe tbody tr th {\n",
       "        vertical-align: top;\n",
       "    }\n",
       "\n",
       "    .dataframe thead th {\n",
       "        text-align: right;\n",
       "    }\n",
       "</style>\n",
       "<table border=\"1\" class=\"dataframe\">\n",
       "  <thead>\n",
       "    <tr style=\"text-align: right;\">\n",
       "      <th></th>\n",
       "      <th>publisher</th>\n",
       "      <th>headline</th>\n",
       "    </tr>\n",
       "  </thead>\n",
       "  <tbody>\n",
       "    <tr>\n",
       "      <th>686</th>\n",
       "      <td>Paul Quintaro</td>\n",
       "      <td>228373</td>\n",
       "    </tr>\n",
       "    <tr>\n",
       "      <th>532</th>\n",
       "      <td>Lisa Levin</td>\n",
       "      <td>186979</td>\n",
       "    </tr>\n",
       "    <tr>\n",
       "      <th>96</th>\n",
       "      <td>Benzinga Newsdesk</td>\n",
       "      <td>150484</td>\n",
       "    </tr>\n",
       "    <tr>\n",
       "      <th>169</th>\n",
       "      <td>Charles Gross</td>\n",
       "      <td>96732</td>\n",
       "    </tr>\n",
       "    <tr>\n",
       "      <th>622</th>\n",
       "      <td>Monica Gerson</td>\n",
       "      <td>82380</td>\n",
       "    </tr>\n",
       "    <tr>\n",
       "      <th>275</th>\n",
       "      <td>Eddie Staley</td>\n",
       "      <td>57254</td>\n",
       "    </tr>\n",
       "    <tr>\n",
       "      <th>353</th>\n",
       "      <td>Hal Lindon</td>\n",
       "      <td>49047</td>\n",
       "    </tr>\n",
       "    <tr>\n",
       "      <th>270</th>\n",
       "      <td>ETF Professor</td>\n",
       "      <td>28489</td>\n",
       "    </tr>\n",
       "    <tr>\n",
       "      <th>478</th>\n",
       "      <td>Juan Lopez</td>\n",
       "      <td>28438</td>\n",
       "    </tr>\n",
       "    <tr>\n",
       "      <th>98</th>\n",
       "      <td>Benzinga Staff</td>\n",
       "      <td>28114</td>\n",
       "    </tr>\n",
       "  </tbody>\n",
       "</table>\n",
       "</div>"
      ],
      "text/plain": [
       "             publisher  headline\n",
       "686      Paul Quintaro    228373\n",
       "532         Lisa Levin    186979\n",
       "96   Benzinga Newsdesk    150484\n",
       "169      Charles Gross     96732\n",
       "622      Monica Gerson     82380\n",
       "275       Eddie Staley     57254\n",
       "353         Hal Lindon     49047\n",
       "270      ETF Professor     28489\n",
       "478         Juan Lopez     28438\n",
       "98      Benzinga Staff     28114"
      ]
     },
     "execution_count": 10,
     "metadata": {},
     "output_type": "execute_result"
    }
   ],
   "source": [
    "sorted_articlesPerPub = articles_per_pub.sort_values(by='headline', ascending=False)\n",
    "sorted_articlesPerPub.head(10)"
   ]
  },
  {
   "cell_type": "markdown",
   "id": "2a98d607-6849-4810-ac59-62f261b327b4",
   "metadata": {},
   "source": [
    "These are the top 10 most active publishers based on the number of articles they publish."
   ]
  },
  {
   "cell_type": "code",
   "execution_count": 20,
   "id": "5e09c1ff-63aa-4bc9-8774-f82ba9e6b076",
   "metadata": {},
   "outputs": [],
   "source": [
    "articles_per_date = df.groupby('date')['headline'].count().reset_index()"
   ]
  },
  {
   "cell_type": "code",
   "execution_count": 21,
   "id": "231d8617-9425-4e51-82ff-aa5529df89a0",
   "metadata": {},
   "outputs": [
    {
     "data": {
      "text/html": [
       "<div>\n",
       "<style scoped>\n",
       "    .dataframe tbody tr th:only-of-type {\n",
       "        vertical-align: middle;\n",
       "    }\n",
       "\n",
       "    .dataframe tbody tr th {\n",
       "        vertical-align: top;\n",
       "    }\n",
       "\n",
       "    .dataframe thead th {\n",
       "        text-align: right;\n",
       "    }\n",
       "</style>\n",
       "<table border=\"1\" class=\"dataframe\">\n",
       "  <thead>\n",
       "    <tr style=\"text-align: right;\">\n",
       "      <th></th>\n",
       "      <th>date</th>\n",
       "      <th>headline</th>\n",
       "    </tr>\n",
       "  </thead>\n",
       "  <tbody>\n",
       "    <tr>\n",
       "      <th>12497</th>\n",
       "      <td>2016-10-28 07:01:52-04:00</td>\n",
       "      <td>1</td>\n",
       "    </tr>\n",
       "    <tr>\n",
       "      <th>18478</th>\n",
       "      <td>2018-07-26 00:00:00</td>\n",
       "      <td>1125</td>\n",
       "    </tr>\n",
       "    <tr>\n",
       "      <th>6345</th>\n",
       "      <td>2015-04-27 08:05:06-04:00</td>\n",
       "      <td>1</td>\n",
       "    </tr>\n",
       "    <tr>\n",
       "      <th>2149</th>\n",
       "      <td>2012-08-10 06:46:37-04:00</td>\n",
       "      <td>2</td>\n",
       "    </tr>\n",
       "    <tr>\n",
       "      <th>12727</th>\n",
       "      <td>2016-11-11 09:36:53-04:00</td>\n",
       "      <td>1</td>\n",
       "    </tr>\n",
       "  </tbody>\n",
       "</table>\n",
       "</div>"
      ],
      "text/plain": [
       "                            date  headline\n",
       "12497  2016-10-28 07:01:52-04:00         1\n",
       "18478        2018-07-26 00:00:00      1125\n",
       "6345   2015-04-27 08:05:06-04:00         1\n",
       "2149   2012-08-10 06:46:37-04:00         2\n",
       "12727  2016-11-11 09:36:53-04:00         1"
      ]
     },
     "execution_count": 21,
     "metadata": {},
     "output_type": "execute_result"
    }
   ],
   "source": [
    "articles_per_date.sample(5)"
   ]
  },
  {
   "cell_type": "code",
   "execution_count": 74,
   "id": "5004d84a-46d9-4205-9e9c-1d59eaf4c504",
   "metadata": {},
   "outputs": [
    {
     "data": {
      "text/html": [
       "<div>\n",
       "<style scoped>\n",
       "    .dataframe tbody tr th:only-of-type {\n",
       "        vertical-align: middle;\n",
       "    }\n",
       "\n",
       "    .dataframe tbody tr th {\n",
       "        vertical-align: top;\n",
       "    }\n",
       "\n",
       "    .dataframe thead th {\n",
       "        text-align: right;\n",
       "    }\n",
       "</style>\n",
       "<table border=\"1\" class=\"dataframe\">\n",
       "  <thead>\n",
       "    <tr style=\"text-align: right;\">\n",
       "      <th></th>\n",
       "      <th>headline</th>\n",
       "    </tr>\n",
       "    <tr>\n",
       "      <th>date</th>\n",
       "      <th></th>\n",
       "    </tr>\n",
       "  </thead>\n",
       "  <tbody>\n",
       "    <tr>\n",
       "      <th>2020-03-31 00:00:00+00:00</th>\n",
       "      <td>24995</td>\n",
       "    </tr>\n",
       "    <tr>\n",
       "      <th>2020-04-30 00:00:00+00:00</th>\n",
       "      <td>20757</td>\n",
       "    </tr>\n",
       "    <tr>\n",
       "      <th>2020-02-29 00:00:00+00:00</th>\n",
       "      <td>18878</td>\n",
       "    </tr>\n",
       "    <tr>\n",
       "      <th>2020-05-31 00:00:00+00:00</th>\n",
       "      <td>17992</td>\n",
       "    </tr>\n",
       "    <tr>\n",
       "      <th>2018-08-31 00:00:00+00:00</th>\n",
       "      <td>16681</td>\n",
       "    </tr>\n",
       "    <tr>\n",
       "      <th>2019-10-31 00:00:00+00:00</th>\n",
       "      <td>16560</td>\n",
       "    </tr>\n",
       "    <tr>\n",
       "      <th>2019-08-31 00:00:00+00:00</th>\n",
       "      <td>16462</td>\n",
       "    </tr>\n",
       "    <tr>\n",
       "      <th>2018-10-31 00:00:00+00:00</th>\n",
       "      <td>16294</td>\n",
       "    </tr>\n",
       "    <tr>\n",
       "      <th>2020-01-31 00:00:00+00:00</th>\n",
       "      <td>16145</td>\n",
       "    </tr>\n",
       "    <tr>\n",
       "      <th>2018-11-30 00:00:00+00:00</th>\n",
       "      <td>14829</td>\n",
       "    </tr>\n",
       "  </tbody>\n",
       "</table>\n",
       "</div>"
      ],
      "text/plain": [
       "                           headline\n",
       "date                               \n",
       "2020-03-31 00:00:00+00:00     24995\n",
       "2020-04-30 00:00:00+00:00     20757\n",
       "2020-02-29 00:00:00+00:00     18878\n",
       "2020-05-31 00:00:00+00:00     17992\n",
       "2018-08-31 00:00:00+00:00     16681\n",
       "2019-10-31 00:00:00+00:00     16560\n",
       "2019-08-31 00:00:00+00:00     16462\n",
       "2018-10-31 00:00:00+00:00     16294\n",
       "2020-01-31 00:00:00+00:00     16145\n",
       "2018-11-30 00:00:00+00:00     14829"
      ]
     },
     "execution_count": 74,
     "metadata": {},
     "output_type": "execute_result"
    }
   ],
   "source": [
    "date_indexed_df = articles_per_date.copy()\n",
    "date_indexed_df[\"date\"] = pd.to_datetime(date_indexed_df[\"date\"],format='ISO8601',utc=True)\n",
    "\n",
    "date_indexed_df.set_index(\"date\",inplace=True)\n",
    "monthly_data = date_indexed_df.resample('ME').sum()\n",
    "sorted_articlesPerDate = monthly_data.sort_values(by='headline', ascending=False)\n",
    "sorted_articlesPerDate.head(10)"
   ]
  },
  {
   "cell_type": "markdown",
   "id": "2494aae6-9b81-4826-9938-ab249d235f8f",
   "metadata": {},
   "source": [
    "The top 2 periods in which news related to the stock market was frequent are March and April of 2020. This may be due to the crash that followed instability due to the COVID-19 pandemic which spanned the period from February 20 to April 7."
   ]
  },
  {
   "cell_type": "markdown",
   "id": "97e6f56d-d879-421c-bc5b-2630d4a1f965",
   "metadata": {},
   "source": [
    "**Text Analysis**"
   ]
  },
  {
   "cell_type": "code",
   "execution_count": null,
   "id": "57adceab-5615-4f26-8e39-abc409583e6d",
   "metadata": {},
   "outputs": [],
   "source": []
  }
 ],
 "metadata": {
  "kernelspec": {
   "display_name": "Python 3 (ipykernel)",
   "language": "python",
   "name": "python3"
  },
  "language_info": {
   "codemirror_mode": {
    "name": "ipython",
    "version": 3
   },
   "file_extension": ".py",
   "mimetype": "text/x-python",
   "name": "python",
   "nbconvert_exporter": "python",
   "pygments_lexer": "ipython3",
   "version": "3.11.9"
  }
 },
 "nbformat": 4,
 "nbformat_minor": 5
}
