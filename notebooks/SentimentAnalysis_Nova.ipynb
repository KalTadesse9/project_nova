{
 "cells": [
  {
   "cell_type": "code",
   "execution_count": 1,
   "id": "333e3da6-ddf0-4a15-bd81-80caaecb7f24",
   "metadata": {},
   "outputs": [
    {
     "name": "stderr",
     "output_type": "stream",
     "text": [
      "[nltk_data] Error loading vader_lexicon: <urlopen error [WinError\n",
      "[nltk_data]     10060] A connection attempt failed because the\n",
      "[nltk_data]     connected party did not properly respond after a\n",
      "[nltk_data]     period of time, or established connection failed\n",
      "[nltk_data]     because connected host has failed to respond>\n"
     ]
    },
    {
     "data": {
      "text/plain": [
       "False"
      ]
     },
     "execution_count": 1,
     "metadata": {},
     "output_type": "execute_result"
    }
   ],
   "source": [
    "import pandas as pd\n",
    "import nltk\n",
    "nltk.download(\"vader_lexicon\")"
   ]
  },
  {
   "cell_type": "code",
   "execution_count": 2,
   "id": "168fb8b9-6e98-45a7-a256-243d1d022cb5",
   "metadata": {},
   "outputs": [
    {
     "data": {
      "text/plain": [
       "Unnamed: 0    1407328\n",
       "headline      1407328\n",
       "url           1407328\n",
       "publisher     1407328\n",
       "date          1407328\n",
       "stock         1407328\n",
       "dtype: int64"
      ]
     },
     "execution_count": 2,
     "metadata": {},
     "output_type": "execute_result"
    }
   ],
   "source": [
    "df = pd.read_csv(\"../../raw_analyst_ratings.csv\")\n",
    "df.count()"
   ]
  },
  {
   "cell_type": "code",
   "execution_count": 3,
   "id": "d1310c77-4da3-41df-8b5d-187475333a67",
   "metadata": {},
   "outputs": [
    {
     "data": {
      "text/plain": [
       "1407323       [Top, Narrow, Based, Indexes, For, August, 29]\n",
       "1407324    [Recap:, Wednesday's, Top, Percentage, Gainers...\n",
       "1407325    [UPDATE:, Oppenheimer, Color, on, China, Zenix...\n",
       "1407326    [Oppenheimer, Initiates, China, Zenix, At, Out...\n",
       "1407327    [China, Zenix, Auto, International, Opens, For...\n",
       "Name: headline, dtype: object"
      ]
     },
     "execution_count": 3,
     "metadata": {},
     "output_type": "execute_result"
    }
   ],
   "source": [
    "# Calculate headline lengths\n",
    "df_headline = df['headline'].str.split()\n",
    "\n",
    "#df['headline_length'] = len(df['headline_words'])\n",
    "\n",
    "df_headline.tail()\n",
    "# Compute basic statistics\n",
    "#headline_length_stats = df['headline_length'].describe().round(2)\n",
    "\n",
    "# Print the statistics\n",
    "#print(headline_length_stats)\n"
   ]
  },
  {
   "cell_type": "code",
   "execution_count": null,
   "id": "5d6fcbf3-5a56-4545-ad2b-1191bf212655",
   "metadata": {},
   "outputs": [],
   "source": []
  },
  {
   "cell_type": "code",
   "execution_count": null,
   "id": "ee491555-85e8-47b4-b841-7d44c57c6674",
   "metadata": {},
   "outputs": [],
   "source": []
  }
 ],
 "metadata": {
  "kernelspec": {
   "display_name": "Python 3 (ipykernel)",
   "language": "python",
   "name": "python3"
  },
  "language_info": {
   "codemirror_mode": {
    "name": "ipython",
    "version": 3
   },
   "file_extension": ".py",
   "mimetype": "text/x-python",
   "name": "python",
   "nbconvert_exporter": "python",
   "pygments_lexer": "ipython3",
   "version": "3.11.9"
  }
 },
 "nbformat": 4,
 "nbformat_minor": 5
}
